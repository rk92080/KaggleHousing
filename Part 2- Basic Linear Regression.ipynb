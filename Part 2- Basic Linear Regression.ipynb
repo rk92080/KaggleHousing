{
 "cells": [
  {
   "cell_type": "markdown",
   "metadata": {},
   "source": [
    "# Part 2: Basic Linear Regression"
   ]
  },
  {
   "cell_type": "markdown",
   "metadata": {},
   "source": [
    "The Data used in this notebook can be found on the Kaggle competition page. Here is the description of the challenge (from Kaggle): \n",
    "\n",
    "Ask a home buyer to describe their dream house, and they probably won't begin with the height of the basement ceiling or the proximity to an east-west railroad. But this playground competition's dataset proves that much more influences price negotiations than the number of bedrooms or a white-picket fence.\n",
    "\n",
    "With 79 explanatory variables describing (almost) every aspect of residential homes in Ames, Iowa, this competition challenges you to predict the final price of each home.\n",
    "\n",
    "(https://www.kaggle.com/c/house-prices-advanced-regression-techniques)"
   ]
  },
  {
   "cell_type": "code",
   "execution_count": 259,
   "metadata": {},
   "outputs": [],
   "source": [
    "import pandas as pd\n",
    "import matplotlib.pyplot as plt\n",
    "import numpy as np\n",
    "import warnings\n",
    "warnings.filterwarnings('ignore')\n",
    "%matplotlib inline\n",
    "import numpy as np\n",
    "import seaborn as sns\n",
    "\n",
    "pd.set_option('display.max_columns', None)  \n",
    "pd.set_option('display.max_rows', None) \n",
    "pd.set_option('display.max_colwidth', -1)"
   ]
  },
  {
   "cell_type": "markdown",
   "metadata": {},
   "source": [
    "In this notebook we will start by taking our processed data from the last notebook and creating a Linear Regression Model. We can then use the resisduals from our models prediction to improve our model. This includes adding new features. Finally, we can assess the RMSLE score for our model. "
   ]
  },
  {
   "cell_type": "markdown",
   "metadata": {},
   "source": [
    "## Step 1: Clean and Randomize the Data"
   ]
  },
  {
   "cell_type": "markdown",
   "metadata": {},
   "source": [
    "Our first step is the to import our cleaned dataset from Part 1. We should also take a look at the shape and which Features we selected from the last Notebook."
   ]
  },
  {
   "cell_type": "code",
   "execution_count": 260,
   "metadata": {},
   "outputs": [
    {
     "data": {
      "text/plain": [
       "Index(['ExterQual', 'BsmtQual', 'BsmtExposure', 'KitchenQual', 'GarageFinish',\n",
       "       'OverallQual', 'YearBuilt', 'MasVnrArea', 'GrLivArea', 'TotRmsAbvGrd',\n",
       "       'Fireplaces', 'GarageArea', 'TotalSF', 'TotalBath', 'SalePrice',\n",
       "       'Neighborhood_Blmngtn', 'Neighborhood_Blueste', 'Neighborhood_BrDale',\n",
       "       'Neighborhood_BrkSide', 'Neighborhood_ClearCr', 'Neighborhood_CollgCr',\n",
       "       'Neighborhood_Crawfor', 'Neighborhood_Edwards', 'Neighborhood_Gilbert',\n",
       "       'Neighborhood_IDOTRR', 'Neighborhood_MeadowV', 'Neighborhood_Mitchel',\n",
       "       'Neighborhood_NAmes', 'Neighborhood_NPkVill', 'Neighborhood_NWAmes',\n",
       "       'Neighborhood_NoRidge', 'Neighborhood_NridgHt', 'Neighborhood_OldTown',\n",
       "       'Neighborhood_SWISU', 'Neighborhood_Sawyer', 'Neighborhood_SawyerW',\n",
       "       'Neighborhood_Somerst', 'Neighborhood_StoneBr', 'Neighborhood_Timber',\n",
       "       'Neighborhood_Veenker', 'HouseStyle_1.5Fin', 'HouseStyle_1.5Unf',\n",
       "       'HouseStyle_1Story', 'HouseStyle_2.5Fin', 'HouseStyle_2.5Unf',\n",
       "       'HouseStyle_2Story', 'HouseStyle_SFoyer', 'HouseStyle_SLvl',\n",
       "       'Foundation_BrkTil', 'Foundation_CBlock', 'Foundation_PConc',\n",
       "       'Foundation_Slab', 'Foundation_Stone', 'Foundation_Wood',\n",
       "       'GarageType_2Types', 'GarageType_Attchd', 'GarageType_Basment',\n",
       "       'GarageType_BuiltIn', 'GarageType_CarPort', 'GarageType_Detchd',\n",
       "       'GarageType_NoGar'],\n",
       "      dtype='object')"
      ]
     },
     "execution_count": 260,
     "metadata": {},
     "output_type": "execute_result"
    }
   ],
   "source": [
    "data_location = 'housing_data.csv'\n",
    "df_orig = pd.read_csv(data_location)\n",
    "\n",
    "df.shape\n",
    "df.columns"
   ]
  },
  {
   "cell_type": "markdown",
   "metadata": {},
   "source": [
    "We should also randomize and split our data into testing, training, and validation sets. "
   ]
  },
  {
   "cell_type": "code",
   "execution_count": 303,
   "metadata": {},
   "outputs": [],
   "source": [
    "#In this cell we are randomizing the data and splitting it. \n",
    "\n",
    "np.random.seed(0) \n",
    "\n",
    "rand_split = np.random.rand(len(df))  \n",
    "train_list = rand_split < 0.7\n",
    "valid_list = (rand_split >= 0.7) & (rand_split < 0.85)\n",
    "test_list = rand_split >= 0.85"
   ]
  },
  {
   "cell_type": "code",
   "execution_count": 304,
   "metadata": {},
   "outputs": [],
   "source": [
    "#set up dataframes we will use for our model training\n",
    "\n",
    "df_X = df.drop(columns= 'SalePrice')\n",
    "df_y = df['SalePrice']\n",
    "\n",
    "train_X = df_X[train_list]\n",
    "train_y = df_y[train_list]\n",
    "\n",
    "test_X = df_X[test_list]\n",
    "test_y = df_y[test_list]\n",
    "\n",
    "valid_X = df_X[valid_list]\n",
    "valid_y = df_y[valid_list]"
   ]
  },
  {
   "cell_type": "markdown",
   "metadata": {},
   "source": [
    "In our last notebook we also saved a csv with the original values, including the untransformed sales price. "
   ]
  },
  {
   "cell_type": "code",
   "execution_count": 305,
   "metadata": {},
   "outputs": [],
   "source": [
    "#additionally we want to get our original Sale Values\n",
    "\n",
    "data_location_original = 'housing_data_original.csv'\n",
    "df_orig = pd.read_csv(data_location_original)\n",
    "\n",
    "\n",
    "#create arrays of our original prices\n",
    "train_Price = df_orig[train_list]['SalePrice']\n",
    "test_Price = df_orig[test_list]['SalePrice']\n",
    "valid_Price = df_orig[valid_list]['SalePrice']"
   ]
  },
  {
   "cell_type": "markdown",
   "metadata": {},
   "source": [
    "## Step 2: Implement Basic Linear Regression"
   ]
  },
  {
   "cell_type": "markdown",
   "metadata": {},
   "source": [
    "Now we can implement our Basic Linear Regression model. In this cell we will import the algorithm and fit our training data. "
   ]
  },
  {
   "cell_type": "code",
   "execution_count": 264,
   "metadata": {},
   "outputs": [
    {
     "data": {
      "text/plain": [
       "LinearRegression(copy_X=True, fit_intercept=True, n_jobs=None,\n",
       "         normalize=False)"
      ]
     },
     "execution_count": 264,
     "metadata": {},
     "output_type": "execute_result"
    }
   ],
   "source": [
    "from sklearn.linear_model import LinearRegression\n",
    "\n",
    "linear= LinearRegression()\n",
    "linear.fit(train_X,train_y)"
   ]
  },
  {
   "cell_type": "markdown",
   "metadata": {},
   "source": [
    "This function thats gives us the metrics for our prediction, the actual prediction values (not log), and our resisduals"
   ]
  },
  {
   "cell_type": "code",
   "execution_count": 306,
   "metadata": {},
   "outputs": [],
   "source": [
    "\n",
    "def rmsle(true_y,pred_y,predictions= False):\n",
    "    \n",
    "    rmsle = np.sqrt(np.sum((np.log1p(true_y) - (pred_y))**2)/len(true_y))\n",
    "    predictions_y = np.e**pred_y\n",
    "    res = np.array(true_y) - predictions_y\n",
    "    if predictions:\n",
    "        return res, rmsle, predictions_y\n",
    "    else:\n",
    "        return res, rmsle     "
   ]
  },
  {
   "cell_type": "markdown",
   "metadata": {},
   "source": [
    "After training our model, we should evaluate how it does against the Training Dataset and the testing Dataset. "
   ]
  },
  {
   "cell_type": "code",
   "execution_count": 266,
   "metadata": {},
   "outputs": [
    {
     "name": "stdout",
     "output_type": "stream",
     "text": [
      "r2 score = 0.8968998633589611\n",
      "RMSLE = 0.13056510148272715\n",
      "(1017, 60)\n"
     ]
    },
    {
     "data": {
      "text/plain": [
       "[<matplotlib.lines.Line2D at 0x1a533efe9e8>]"
      ]
     },
     "execution_count": 266,
     "metadata": {},
     "output_type": "execute_result"
    },
    {
     "data": {
      "image/png": "[encoded data removed]",
      "text/plain": [
       "<Figure size 576x432 with 1 Axes>"
      ]
     },
     "metadata": {
      "needs_background": "light"
     },
     "output_type": "display_data"
    }
   ],
   "source": [
    "#See how our model does in the training data set\n",
    "\n",
    "train_r2 = linear.score(train_X,train_y)\n",
    "train_pred_raw = linear.predict(train_X)\n",
    "\n",
    "train_res,train_rmsle = rmsle(train_Price, train_pred_raw)\n",
    "\n",
    "print(f'r2 score = {train_r2}')\n",
    "print(f'RMSLE = {train_rmsle}')\n",
    "\n",
    "\n",
    "f, ax = plt.subplots(figsize=(8, 6))\n",
    "ax.tick_params(labelrotation=45)\n",
    "print(train_X.shape)\n",
    "plt.plot(train_Price, train_res, 'ko')\n",
    "plt.plot(train_Price, [0]*len(train_Price),'r')"
   ]
  },
  {
   "cell_type": "code",
   "execution_count": 267,
   "metadata": {},
   "outputs": [
    {
     "name": "stdout",
     "output_type": "stream",
     "text": [
      "r2 score = 0.7846785783133222\n",
      "RMSLE = 0.17693547527735898\n"
     ]
    },
    {
     "data": {
      "text/plain": [
       "[<matplotlib.lines.Line2D at 0x1a5350fd780>]"
      ]
     },
     "execution_count": 267,
     "metadata": {},
     "output_type": "execute_result"
    },
    {
     "data": {
      "image/png": "[encoded data removed]",
      "text/plain": [
       "<Figure size 576x432 with 1 Axes>"
      ]
     },
     "metadata": {
      "needs_background": "light"
     },
     "output_type": "display_data"
    }
   ],
   "source": [
    "#see how our model preforms in the validation data set\n",
    "\n",
    "valid_r2 = linear.score(valid_X,valid_y)\n",
    "valid_pred = linear.predict(valid_X)\n",
    "\n",
    "valid_res, valid_rmsle = rmsle(valid_Price, valid_pred)\n",
    "\n",
    "print(f'r2 score = {valid_r2}')\n",
    "print(f'RMSLE = {valid_rmsle}')\n",
    "\n",
    "f, ax = plt.subplots(figsize=(8, 6))\n",
    "ax.tick_params(labelrotation=45)\n",
    "\n",
    "plt.plot(valid_Price, valid_res, 'ko')\n",
    "plt.plot(valid_Price, [0]*len(valid_y),'r')"
   ]
  },
  {
   "cell_type": "markdown",
   "metadata": {},
   "source": [
    "As expected our Data does better against the Training Dataset."
   ]
  },
  {
   "cell_type": "code",
   "execution_count": 268,
   "metadata": {},
   "outputs": [
    {
     "name": "stdout",
     "output_type": "stream",
     "text": [
      "Training Model Performance (First Model):\n",
      "r2 score = 0.8968998633589611\n",
      "RMSLE = 0.13056510148272715\n",
      "\n",
      "Validation Model Performance (First Model):\n",
      "r2 score = 0.7846785783133222\n",
      "RMSLE = 0.17693547527735898\n"
     ]
    }
   ],
   "source": [
    "print('Training Model Performance (First Model):')\n",
    "print(f'r2 score = {train_r2}')\n",
    "print(f'RMSLE = {train_rmsle}')\n",
    "\n",
    "print('\\nValidation Model Performance (First Model):')\n",
    "print(f'r2 score = {valid_r2}')\n",
    "print(f'RMSLE = {valid_rmsle}')"
   ]
  },
  {
   "cell_type": "markdown",
   "metadata": {},
   "source": [
    "## Step 3: Check Resisduals and Implement More Features"
   ]
  },
  {
   "cell_type": "code",
   "execution_count": 269,
   "metadata": {},
   "outputs": [
    {
     "data": {
      "text/plain": [
       "['ExterQual',\n",
       " 'BsmtQual',\n",
       " 'BsmtExposure',\n",
       " 'KitchenQual',\n",
       " 'GarageFinish',\n",
       " 'Neighborhood',\n",
       " 'HouseStyle',\n",
       " 'Foundation',\n",
       " 'GarageType']"
      ]
     },
     "execution_count": 269,
     "metadata": {},
     "output_type": "execute_result"
    }
   ],
   "source": [
    "#import dataset with cataogical values to examine our models accuracy feature by feature \n",
    "\n",
    "train_orig = df_orig[train_list]\n",
    "train_orig['Residuals'] = train_res\n",
    "train_X_wr= train_X.copy() #create new dataframe for visualzing residuals \n",
    "train_X_wr['Residuals'] = train_res\n",
    "\n",
    "valid_orig = df_orig[valid_list]\n",
    "valid_orig['Residuals'] = valid_res\n",
    "valid_X_wr= valid_X.copy() #create new dataframe for visualzing residuals \n",
    "valid_X_wr['Residuals'] = valid_res\n",
    "\n",
    "[i for i in train_orig.columns if train_orig[i].dtype == 'object']"
   ]
  },
  {
   "cell_type": "code",
   "execution_count": 270,
   "metadata": {},
   "outputs": [
    {
     "data": {
      "text/plain": [
       "['OverallQual',\n",
       " 'YearBuilt',\n",
       " 'MasVnrArea',\n",
       " 'GrLivArea',\n",
       " 'TotRmsAbvGrd',\n",
       " 'Fireplaces',\n",
       " 'GarageArea',\n",
       " 'TotalSF',\n",
       " 'TotalBath',\n",
       " 'SalePrice',\n",
       " 'Residuals']"
      ]
     },
     "execution_count": 270,
     "metadata": {},
     "output_type": "execute_result"
    }
   ],
   "source": [
    "#check the resisduals for the numeric features\n",
    "     \n",
    "[i for i in train_orig.columns if train_orig[i].dtype != 'object']"
   ]
  },
  {
   "cell_type": "code",
   "execution_count": 271,
   "metadata": {},
   "outputs": [
    {
     "data": {
      "text/plain": [
       "[<matplotlib.lines.Line2D at 0x1a5351f4b38>]"
      ]
     },
     "execution_count": 271,
     "metadata": {},
     "output_type": "execute_result"
    },
    {
     "data": {
      "image/png": "[encoded data removed]",
      "text/plain": [
       "<Figure size 576x432 with 1 Axes>"
      ]
     },
     "metadata": {
      "needs_background": "light"
     },
     "output_type": "display_data"
    }
   ],
   "source": [
    "#'YearBuilt','MasVnrArea','TotalSF','GrLivArea','GarageArea', 'TotalBath'\n",
    "\n",
    "var='TotalSF'\n",
    "\n",
    "f, ax = plt.subplots(figsize=(8, 6))\n",
    "ax.tick_params(labelrotation=45)\n",
    "\n",
    "plt.plot(train_X[var], train_res, 'ko')\n",
    "plt.plot(train_X[var], [0]*len(train_res),'r')"
   ]
  },
  {
   "cell_type": "code",
   "execution_count": 272,
   "metadata": {},
   "outputs": [
    {
     "data": {
      "text/plain": [
       "[<matplotlib.lines.Line2D at 0x1a533fdf550>]"
      ]
     },
     "execution_count": 272,
     "metadata": {},
     "output_type": "execute_result"
    },
    {
     "data": {
      "image/png": "[encoded data removed]",
      "text/plain": [
       "<Figure size 576x432 with 1 Axes>"
      ]
     },
     "metadata": {
      "needs_background": "light"
     },
     "output_type": "display_data"
    }
   ],
   "source": [
    "f, ax = plt.subplots(figsize=(8, 6))\n",
    "ax.tick_params(labelrotation=45)\n",
    "\n",
    "plt.plot(valid_X[var], valid_res, 'ko')\n",
    "plt.plot(valid_X[var], [0]*len(valid_res),'r')"
   ]
  },
  {
   "cell_type": "markdown",
   "metadata": {},
   "source": [
    "## Step 4: Check Resisduals Against Unused Features"
   ]
  },
  {
   "cell_type": "markdown",
   "metadata": {},
   "source": [
    "We can use our resisduals to help build a better model. This includes checking our resisduals against unused Features and seeing if there is correlation between them. This is a sign that we should include that Features in our adjusted Model."
   ]
  },
  {
   "cell_type": "code",
   "execution_count": 273,
   "metadata": {},
   "outputs": [],
   "source": [
    "#Re-import our raw housing data to check features that we did not use in our first model\n",
    "\n",
    "data_location= 'raw_housing_data.csv'\n",
    "df_recheck = pd.read_csv(data_location, low_memory=False)\n",
    "df_recheck['Id'] = df_recheck['Id'] - 1\n",
    "\n",
    "df_recheck=df_recheck.set_index('Id')"
   ]
  },
  {
   "cell_type": "code",
   "execution_count": 274,
   "metadata": {},
   "outputs": [],
   "source": [
    "#preofrm \n",
    "\n",
    "\n",
    "train_recheck = df_recheck[train_list]\n",
    "\n",
    "valid_recheck = df_recheck[valid_list]\n",
    "\n",
    "test_recheck = df_recheck[test_list]\n"
   ]
  },
  {
   "cell_type": "code",
   "execution_count": 275,
   "metadata": {},
   "outputs": [],
   "source": [
    "cols= [i for i in train_recheck.columns if i not in train_orig.columns]\n",
    "\n",
    "train_recheck = train_recheck[cols]\n",
    "train_recheck['Residuals'] = train_res\n",
    "\n",
    "valid_recheck = valid_recheck[cols]\n",
    "valid_recheck['Residuals'] = valid_res\n",
    "\n",
    "#test_recheck = test_recheck[cols]\n",
    "#test_recheck['Residuals'] = test_res"
   ]
  },
  {
   "cell_type": "code",
   "execution_count": 276,
   "metadata": {},
   "outputs": [
    {
     "data": {
      "text/plain": [
       "<matplotlib.axes._subplots.AxesSubplot at 0x1a533ba3be0>"
      ]
     },
     "execution_count": 276,
     "metadata": {},
     "output_type": "execute_result"
    },
    {
     "data": {
      "image/png": "[encoded data removed]",
      "text/plain": [
       "<Figure size 432x288 with 2 Axes>"
      ]
     },
     "metadata": {
      "needs_background": "light"
     },
     "output_type": "display_data"
    }
   ],
   "source": [
    "#check coorelation of unused numerical features against the resisduals\n",
    "\n",
    "import seaborn as sns\n",
    "\n",
    "corr_mat= train_recheck.corr()\n",
    "f, ax= plt.subplots()\n",
    "sns.heatmap(corr_mat,vmax=.7)"
   ]
  },
  {
   "cell_type": "code",
   "execution_count": 277,
   "metadata": {},
   "outputs": [
    {
     "data": {
      "text/plain": [
       "{'OverallCond': 0.2672063960583788, 'Residuals': 1.0}"
      ]
     },
     "execution_count": 277,
     "metadata": {},
     "output_type": "execute_result"
    }
   ],
   "source": [
    "#find ones with high coorelation, LotArea and OverallCond\n",
    "\n",
    "pre_corr_dict = {k:v for k,v in zip(corr_mat.index, corr_mat['Residuals']) if abs(v)>.20}\n",
    "pre_corr_dict"
   ]
  },
  {
   "cell_type": "markdown",
   "metadata": {},
   "source": [
    "When looking at our numerical variables, only OverallCond stands out as a Feature we should add to our adjusted Model. Next we can check our caterogorical variables."
   ]
  },
  {
   "cell_type": "code",
   "execution_count": 308,
   "metadata": {},
   "outputs": [
    {
     "name": "stdout",
     "output_type": "stream",
     "text": [
      "['MSZoning', 'Street', 'Alley', 'LotShape', 'LandContour', 'Utilities', 'LotConfig', 'LandSlope', 'Condition1', 'Condition2', 'BldgType', 'RoofStyle', 'RoofMatl', 'Exterior1st', 'Exterior2nd', 'MasVnrType', 'ExterCond', 'BsmtCond', 'BsmtFinType1', 'BsmtFinType2', 'Heating', 'HeatingQC', 'CentralAir', 'Electrical', 'Functional', 'FireplaceQu', 'GarageQual', 'GarageCond', 'PavedDrive', 'PoolQC', 'Fence', 'MiscFeature', 'SaleType', 'SaleCondition']\n"
     ]
    }
   ],
   "source": [
    "print([i for i in train_recheck.columns if train_recheck[i].dtype == 'object'])"
   ]
  },
  {
   "cell_type": "code",
   "execution_count": 309,
   "metadata": {},
   "outputs": [
    {
     "name": "stdout",
     "output_type": "stream",
     "text": [
      "(1460, 80)\n"
     ]
    },
    {
     "data": {
      "image/png": "[encoded data removed]",
      "text/plain": [
       "<Figure size 576x432 with 1 Axes>"
      ]
     },
     "metadata": {
      "needs_background": "light"
     },
     "output_type": "display_data"
    }
   ],
   "source": [
    "#check categorical ununsed features against resisduals, MSZoning, GarageQual\n",
    "\n",
    "var = 'GarageQual'\n",
    "data = pd.concat([train_recheck, train_Price], axis=1)\n",
    "f, ax = plt.subplots(figsize=(8, 6))\n",
    "plt.grid('on')\n",
    "ax.tick_params(labelrotation=45)\n",
    "fig = sns.boxplot(x=var, y=\"Residuals\", data=data)\n",
    "fig.axis(ymin=-300000, ymax=300000);\n",
    "\n",
    "print(df_recheck.shape)"
   ]
  },
  {
   "cell_type": "code",
   "execution_count": 310,
   "metadata": {},
   "outputs": [
    {
     "data": {
      "image/png": "[encoded data removed]",
      "text/plain": [
       "<Figure size 576x432 with 1 Axes>"
      ]
     },
     "metadata": {
      "needs_background": "light"
     },
     "output_type": "display_data"
    }
   ],
   "source": [
    "data = pd.concat([valid_recheck, valid_Price], axis=1)\n",
    "f, ax = plt.subplots(figsize=(8, 6))\n",
    "plt.grid('on')\n",
    "ax.tick_params(labelrotation=45)\n",
    "fig = sns.boxplot(x=var, y=\"Residuals\", data=data)\n",
    "fig.axis(ymin=-300000, ymax=300000);"
   ]
  },
  {
   "cell_type": "markdown",
   "metadata": {},
   "source": [
    "After looking through all our variables, we can add in MSZoning (whether or not Commerical), OverallCond, and GarageQual. We will name our new Dataset df_X_adj"
   ]
  },
  {
   "cell_type": "code",
   "execution_count": 312,
   "metadata": {},
   "outputs": [
    {
     "data": {
      "text/html": [
       "<div>\n",
       "<style scoped>\n",
       "    .dataframe tbody tr th:only-of-type {\n",
       "        vertical-align: middle;\n",
       "    }\n",
       "\n",
       "    .dataframe tbody tr th {\n",
       "        vertical-align: top;\n",
       "    }\n",
       "\n",
       "    .dataframe thead th {\n",
       "        text-align: right;\n",
       "    }\n",
       "</style>\n",
       "<table border=\"1\" class=\"dataframe\">\n",
       "  <thead>\n",
       "    <tr style=\"text-align: right;\">\n",
       "      <th></th>\n",
       "      <th>ExterQual</th>\n",
       "      <th>BsmtQual</th>\n",
       "      <th>BsmtExposure</th>\n",
       "      <th>KitchenQual</th>\n",
       "      <th>GarageFinish</th>\n",
       "      <th>OverallQual</th>\n",
       "      <th>YearBuilt</th>\n",
       "      <th>MasVnrArea</th>\n",
       "      <th>GrLivArea</th>\n",
       "      <th>TotRmsAbvGrd</th>\n",
       "      <th>Fireplaces</th>\n",
       "      <th>GarageArea</th>\n",
       "      <th>TotalSF</th>\n",
       "      <th>TotalBath</th>\n",
       "      <th>Neighborhood_Blmngtn</th>\n",
       "      <th>Neighborhood_Blueste</th>\n",
       "      <th>Neighborhood_BrDale</th>\n",
       "      <th>Neighborhood_BrkSide</th>\n",
       "      <th>Neighborhood_ClearCr</th>\n",
       "      <th>Neighborhood_CollgCr</th>\n",
       "      <th>Neighborhood_Crawfor</th>\n",
       "      <th>Neighborhood_Edwards</th>\n",
       "      <th>Neighborhood_Gilbert</th>\n",
       "      <th>Neighborhood_IDOTRR</th>\n",
       "      <th>Neighborhood_MeadowV</th>\n",
       "      <th>Neighborhood_Mitchel</th>\n",
       "      <th>Neighborhood_NAmes</th>\n",
       "      <th>Neighborhood_NPkVill</th>\n",
       "      <th>Neighborhood_NWAmes</th>\n",
       "      <th>Neighborhood_NoRidge</th>\n",
       "      <th>Neighborhood_NridgHt</th>\n",
       "      <th>Neighborhood_OldTown</th>\n",
       "      <th>Neighborhood_SWISU</th>\n",
       "      <th>Neighborhood_Sawyer</th>\n",
       "      <th>Neighborhood_SawyerW</th>\n",
       "      <th>Neighborhood_Somerst</th>\n",
       "      <th>Neighborhood_StoneBr</th>\n",
       "      <th>Neighborhood_Timber</th>\n",
       "      <th>Neighborhood_Veenker</th>\n",
       "      <th>HouseStyle_1.5Fin</th>\n",
       "      <th>HouseStyle_1.5Unf</th>\n",
       "      <th>HouseStyle_1Story</th>\n",
       "      <th>HouseStyle_2.5Fin</th>\n",
       "      <th>HouseStyle_2.5Unf</th>\n",
       "      <th>HouseStyle_2Story</th>\n",
       "      <th>HouseStyle_SFoyer</th>\n",
       "      <th>HouseStyle_SLvl</th>\n",
       "      <th>Foundation_BrkTil</th>\n",
       "      <th>Foundation_CBlock</th>\n",
       "      <th>Foundation_PConc</th>\n",
       "      <th>Foundation_Slab</th>\n",
       "      <th>Foundation_Stone</th>\n",
       "      <th>Foundation_Wood</th>\n",
       "      <th>GarageType_2Types</th>\n",
       "      <th>GarageType_Attchd</th>\n",
       "      <th>GarageType_Basment</th>\n",
       "      <th>GarageType_BuiltIn</th>\n",
       "      <th>GarageType_CarPort</th>\n",
       "      <th>GarageType_Detchd</th>\n",
       "      <th>GarageType_NoGar</th>\n",
       "      <th>OverallCond</th>\n",
       "      <th>GarageQual</th>\n",
       "      <th>CommerZone</th>\n",
       "    </tr>\n",
       "  </thead>\n",
       "  <tbody>\n",
       "    <tr>\n",
       "      <th>0</th>\n",
       "      <td>5</td>\n",
       "      <td>4</td>\n",
       "      <td>3</td>\n",
       "      <td>4</td>\n",
       "      <td>4</td>\n",
       "      <td>7</td>\n",
       "      <td>17</td>\n",
       "      <td>5.283204</td>\n",
       "      <td>7.444833</td>\n",
       "      <td>8</td>\n",
       "      <td>0</td>\n",
       "      <td>6.308098</td>\n",
       "      <td>7.850493</td>\n",
       "      <td>3.5</td>\n",
       "      <td>0</td>\n",
       "      <td>0</td>\n",
       "      <td>0</td>\n",
       "      <td>0</td>\n",
       "      <td>0</td>\n",
       "      <td>1</td>\n",
       "      <td>0</td>\n",
       "      <td>0</td>\n",
       "      <td>0</td>\n",
       "      <td>0</td>\n",
       "      <td>0</td>\n",
       "      <td>0</td>\n",
       "      <td>0</td>\n",
       "      <td>0</td>\n",
       "      <td>0</td>\n",
       "      <td>0</td>\n",
       "      <td>0</td>\n",
       "      <td>0</td>\n",
       "      <td>0</td>\n",
       "      <td>0</td>\n",
       "      <td>0</td>\n",
       "      <td>0</td>\n",
       "      <td>0</td>\n",
       "      <td>0</td>\n",
       "      <td>0</td>\n",
       "      <td>0</td>\n",
       "      <td>0</td>\n",
       "      <td>0</td>\n",
       "      <td>0</td>\n",
       "      <td>0</td>\n",
       "      <td>1</td>\n",
       "      <td>0</td>\n",
       "      <td>0</td>\n",
       "      <td>0</td>\n",
       "      <td>0</td>\n",
       "      <td>1</td>\n",
       "      <td>0</td>\n",
       "      <td>0</td>\n",
       "      <td>0</td>\n",
       "      <td>0</td>\n",
       "      <td>1</td>\n",
       "      <td>0</td>\n",
       "      <td>0</td>\n",
       "      <td>0</td>\n",
       "      <td>0</td>\n",
       "      <td>0</td>\n",
       "      <td>2</td>\n",
       "      <td>1</td>\n",
       "      <td>0</td>\n",
       "    </tr>\n",
       "    <tr>\n",
       "      <th>1</th>\n",
       "      <td>3</td>\n",
       "      <td>4</td>\n",
       "      <td>5</td>\n",
       "      <td>3</td>\n",
       "      <td>4</td>\n",
       "      <td>6</td>\n",
       "      <td>44</td>\n",
       "      <td>0.000000</td>\n",
       "      <td>7.141245</td>\n",
       "      <td>6</td>\n",
       "      <td>1</td>\n",
       "      <td>6.133398</td>\n",
       "      <td>7.833996</td>\n",
       "      <td>2.5</td>\n",
       "      <td>0</td>\n",
       "      <td>0</td>\n",
       "      <td>0</td>\n",
       "      <td>0</td>\n",
       "      <td>0</td>\n",
       "      <td>0</td>\n",
       "      <td>0</td>\n",
       "      <td>0</td>\n",
       "      <td>0</td>\n",
       "      <td>0</td>\n",
       "      <td>0</td>\n",
       "      <td>0</td>\n",
       "      <td>0</td>\n",
       "      <td>0</td>\n",
       "      <td>0</td>\n",
       "      <td>0</td>\n",
       "      <td>0</td>\n",
       "      <td>0</td>\n",
       "      <td>0</td>\n",
       "      <td>0</td>\n",
       "      <td>0</td>\n",
       "      <td>0</td>\n",
       "      <td>0</td>\n",
       "      <td>0</td>\n",
       "      <td>1</td>\n",
       "      <td>0</td>\n",
       "      <td>0</td>\n",
       "      <td>1</td>\n",
       "      <td>0</td>\n",
       "      <td>0</td>\n",
       "      <td>0</td>\n",
       "      <td>0</td>\n",
       "      <td>0</td>\n",
       "      <td>0</td>\n",
       "      <td>1</td>\n",
       "      <td>0</td>\n",
       "      <td>0</td>\n",
       "      <td>0</td>\n",
       "      <td>0</td>\n",
       "      <td>0</td>\n",
       "      <td>1</td>\n",
       "      <td>0</td>\n",
       "      <td>0</td>\n",
       "      <td>0</td>\n",
       "      <td>0</td>\n",
       "      <td>0</td>\n",
       "      <td>3</td>\n",
       "      <td>1</td>\n",
       "      <td>0</td>\n",
       "    </tr>\n",
       "    <tr>\n",
       "      <th>2</th>\n",
       "      <td>5</td>\n",
       "      <td>4</td>\n",
       "      <td>4</td>\n",
       "      <td>4</td>\n",
       "      <td>4</td>\n",
       "      <td>7</td>\n",
       "      <td>19</td>\n",
       "      <td>5.093750</td>\n",
       "      <td>7.488294</td>\n",
       "      <td>6</td>\n",
       "      <td>1</td>\n",
       "      <td>6.411818</td>\n",
       "      <td>7.903596</td>\n",
       "      <td>3.5</td>\n",
       "      <td>0</td>\n",
       "      <td>0</td>\n",
       "      <td>0</td>\n",
       "      <td>0</td>\n",
       "      <td>0</td>\n",
       "      <td>1</td>\n",
       "      <td>0</td>\n",
       "      <td>0</td>\n",
       "      <td>0</td>\n",
       "      <td>0</td>\n",
       "      <td>0</td>\n",
       "      <td>0</td>\n",
       "      <td>0</td>\n",
       "      <td>0</td>\n",
       "      <td>0</td>\n",
       "      <td>0</td>\n",
       "      <td>0</td>\n",
       "      <td>0</td>\n",
       "      <td>0</td>\n",
       "      <td>0</td>\n",
       "      <td>0</td>\n",
       "      <td>0</td>\n",
       "      <td>0</td>\n",
       "      <td>0</td>\n",
       "      <td>0</td>\n",
       "      <td>0</td>\n",
       "      <td>0</td>\n",
       "      <td>0</td>\n",
       "      <td>0</td>\n",
       "      <td>0</td>\n",
       "      <td>1</td>\n",
       "      <td>0</td>\n",
       "      <td>0</td>\n",
       "      <td>0</td>\n",
       "      <td>0</td>\n",
       "      <td>1</td>\n",
       "      <td>0</td>\n",
       "      <td>0</td>\n",
       "      <td>0</td>\n",
       "      <td>0</td>\n",
       "      <td>1</td>\n",
       "      <td>0</td>\n",
       "      <td>0</td>\n",
       "      <td>0</td>\n",
       "      <td>0</td>\n",
       "      <td>0</td>\n",
       "      <td>2</td>\n",
       "      <td>1</td>\n",
       "      <td>0</td>\n",
       "    </tr>\n",
       "    <tr>\n",
       "      <th>3</th>\n",
       "      <td>3</td>\n",
       "      <td>3</td>\n",
       "      <td>3</td>\n",
       "      <td>4</td>\n",
       "      <td>3</td>\n",
       "      <td>7</td>\n",
       "      <td>105</td>\n",
       "      <td>0.000000</td>\n",
       "      <td>7.448916</td>\n",
       "      <td>7</td>\n",
       "      <td>1</td>\n",
       "      <td>6.466145</td>\n",
       "      <td>7.813592</td>\n",
       "      <td>2.0</td>\n",
       "      <td>0</td>\n",
       "      <td>0</td>\n",
       "      <td>0</td>\n",
       "      <td>0</td>\n",
       "      <td>0</td>\n",
       "      <td>0</td>\n",
       "      <td>1</td>\n",
       "      <td>0</td>\n",
       "      <td>0</td>\n",
       "      <td>0</td>\n",
       "      <td>0</td>\n",
       "      <td>0</td>\n",
       "      <td>0</td>\n",
       "      <td>0</td>\n",
       "      <td>0</td>\n",
       "      <td>0</td>\n",
       "      <td>0</td>\n",
       "      <td>0</td>\n",
       "      <td>0</td>\n",
       "      <td>0</td>\n",
       "      <td>0</td>\n",
       "      <td>0</td>\n",
       "      <td>0</td>\n",
       "      <td>0</td>\n",
       "      <td>0</td>\n",
       "      <td>0</td>\n",
       "      <td>0</td>\n",
       "      <td>0</td>\n",
       "      <td>0</td>\n",
       "      <td>0</td>\n",
       "      <td>1</td>\n",
       "      <td>0</td>\n",
       "      <td>0</td>\n",
       "      <td>1</td>\n",
       "      <td>0</td>\n",
       "      <td>0</td>\n",
       "      <td>0</td>\n",
       "      <td>0</td>\n",
       "      <td>0</td>\n",
       "      <td>0</td>\n",
       "      <td>0</td>\n",
       "      <td>0</td>\n",
       "      <td>0</td>\n",
       "      <td>0</td>\n",
       "      <td>1</td>\n",
       "      <td>0</td>\n",
       "      <td>2</td>\n",
       "      <td>1</td>\n",
       "      <td>0</td>\n",
       "    </tr>\n",
       "    <tr>\n",
       "      <th>4</th>\n",
       "      <td>5</td>\n",
       "      <td>4</td>\n",
       "      <td>4</td>\n",
       "      <td>4</td>\n",
       "      <td>4</td>\n",
       "      <td>8</td>\n",
       "      <td>20</td>\n",
       "      <td>5.860786</td>\n",
       "      <td>7.695758</td>\n",
       "      <td>9</td>\n",
       "      <td>1</td>\n",
       "      <td>6.729824</td>\n",
       "      <td>8.114923</td>\n",
       "      <td>3.5</td>\n",
       "      <td>0</td>\n",
       "      <td>0</td>\n",
       "      <td>0</td>\n",
       "      <td>0</td>\n",
       "      <td>0</td>\n",
       "      <td>0</td>\n",
       "      <td>0</td>\n",
       "      <td>0</td>\n",
       "      <td>0</td>\n",
       "      <td>0</td>\n",
       "      <td>0</td>\n",
       "      <td>0</td>\n",
       "      <td>0</td>\n",
       "      <td>0</td>\n",
       "      <td>0</td>\n",
       "      <td>1</td>\n",
       "      <td>0</td>\n",
       "      <td>0</td>\n",
       "      <td>0</td>\n",
       "      <td>0</td>\n",
       "      <td>0</td>\n",
       "      <td>0</td>\n",
       "      <td>0</td>\n",
       "      <td>0</td>\n",
       "      <td>0</td>\n",
       "      <td>0</td>\n",
       "      <td>0</td>\n",
       "      <td>0</td>\n",
       "      <td>0</td>\n",
       "      <td>0</td>\n",
       "      <td>1</td>\n",
       "      <td>0</td>\n",
       "      <td>0</td>\n",
       "      <td>0</td>\n",
       "      <td>0</td>\n",
       "      <td>1</td>\n",
       "      <td>0</td>\n",
       "      <td>0</td>\n",
       "      <td>0</td>\n",
       "      <td>0</td>\n",
       "      <td>1</td>\n",
       "      <td>0</td>\n",
       "      <td>0</td>\n",
       "      <td>0</td>\n",
       "      <td>0</td>\n",
       "      <td>0</td>\n",
       "      <td>2</td>\n",
       "      <td>1</td>\n",
       "      <td>0</td>\n",
       "    </tr>\n",
       "  </tbody>\n",
       "</table>\n",
       "</div>"
      ],
      "text/plain": [
       "   ExterQual  BsmtQual  BsmtExposure  KitchenQual  GarageFinish  OverallQual  \\\n",
       "0  5          4         3             4            4             7             \n",
       "1  3          4         5             3            4             6             \n",
       "2  5          4         4             4            4             7             \n",
       "3  3          3         3             4            3             7             \n",
       "4  5          4         4             4            4             8             \n",
       "\n",
       "   YearBuilt  MasVnrArea  GrLivArea  TotRmsAbvGrd  Fireplaces  GarageArea  \\\n",
       "0  17         5.283204    7.444833   8             0           6.308098     \n",
       "1  44         0.000000    7.141245   6             1           6.133398     \n",
       "2  19         5.093750    7.488294   6             1           6.411818     \n",
       "3  105        0.000000    7.448916   7             1           6.466145     \n",
       "4  20         5.860786    7.695758   9             1           6.729824     \n",
       "\n",
       "    TotalSF  TotalBath  Neighborhood_Blmngtn  Neighborhood_Blueste  \\\n",
       "0  7.850493  3.5        0                     0                      \n",
       "1  7.833996  2.5        0                     0                      \n",
       "2  7.903596  3.5        0                     0                      \n",
       "3  7.813592  2.0        0                     0                      \n",
       "4  8.114923  3.5        0                     0                      \n",
       "\n",
       "   Neighborhood_BrDale  Neighborhood_BrkSide  Neighborhood_ClearCr  \\\n",
       "0  0                    0                     0                      \n",
       "1  0                    0                     0                      \n",
       "2  0                    0                     0                      \n",
       "3  0                    0                     0                      \n",
       "4  0                    0                     0                      \n",
       "\n",
       "   Neighborhood_CollgCr  Neighborhood_Crawfor  Neighborhood_Edwards  \\\n",
       "0  1                     0                     0                      \n",
       "1  0                     0                     0                      \n",
       "2  1                     0                     0                      \n",
       "3  0                     1                     0                      \n",
       "4  0                     0                     0                      \n",
       "\n",
       "   Neighborhood_Gilbert  Neighborhood_IDOTRR  Neighborhood_MeadowV  \\\n",
       "0  0                     0                    0                      \n",
       "1  0                     0                    0                      \n",
       "2  0                     0                    0                      \n",
       "3  0                     0                    0                      \n",
       "4  0                     0                    0                      \n",
       "\n",
       "   Neighborhood_Mitchel  Neighborhood_NAmes  Neighborhood_NPkVill  \\\n",
       "0  0                     0                   0                      \n",
       "1  0                     0                   0                      \n",
       "2  0                     0                   0                      \n",
       "3  0                     0                   0                      \n",
       "4  0                     0                   0                      \n",
       "\n",
       "   Neighborhood_NWAmes  Neighborhood_NoRidge  Neighborhood_NridgHt  \\\n",
       "0  0                    0                     0                      \n",
       "1  0                    0                     0                      \n",
       "2  0                    0                     0                      \n",
       "3  0                    0                     0                      \n",
       "4  0                    1                     0                      \n",
       "\n",
       "   Neighborhood_OldTown  Neighborhood_SWISU  Neighborhood_Sawyer  \\\n",
       "0  0                     0                   0                     \n",
       "1  0                     0                   0                     \n",
       "2  0                     0                   0                     \n",
       "3  0                     0                   0                     \n",
       "4  0                     0                   0                     \n",
       "\n",
       "   Neighborhood_SawyerW  Neighborhood_Somerst  Neighborhood_StoneBr  \\\n",
       "0  0                     0                     0                      \n",
       "1  0                     0                     0                      \n",
       "2  0                     0                     0                      \n",
       "3  0                     0                     0                      \n",
       "4  0                     0                     0                      \n",
       "\n",
       "   Neighborhood_Timber  Neighborhood_Veenker  HouseStyle_1.5Fin  \\\n",
       "0  0                    0                     0                   \n",
       "1  0                    1                     0                   \n",
       "2  0                    0                     0                   \n",
       "3  0                    0                     0                   \n",
       "4  0                    0                     0                   \n",
       "\n",
       "   HouseStyle_1.5Unf  HouseStyle_1Story  HouseStyle_2.5Fin  HouseStyle_2.5Unf  \\\n",
       "0  0                  0                  0                  0                   \n",
       "1  0                  1                  0                  0                   \n",
       "2  0                  0                  0                  0                   \n",
       "3  0                  0                  0                  0                   \n",
       "4  0                  0                  0                  0                   \n",
       "\n",
       "   HouseStyle_2Story  HouseStyle_SFoyer  HouseStyle_SLvl  Foundation_BrkTil  \\\n",
       "0  1                  0                  0                0                   \n",
       "1  0                  0                  0                0                   \n",
       "2  1                  0                  0                0                   \n",
       "3  1                  0                  0                1                   \n",
       "4  1                  0                  0                0                   \n",
       "\n",
       "   Foundation_CBlock  Foundation_PConc  Foundation_Slab  Foundation_Stone  \\\n",
       "0  0                  1                 0                0                  \n",
       "1  1                  0                 0                0                  \n",
       "2  0                  1                 0                0                  \n",
       "3  0                  0                 0                0                  \n",
       "4  0                  1                 0                0                  \n",
       "\n",
       "   Foundation_Wood  GarageType_2Types  GarageType_Attchd  GarageType_Basment  \\\n",
       "0  0                0                  1                  0                    \n",
       "1  0                0                  1                  0                    \n",
       "2  0                0                  1                  0                    \n",
       "3  0                0                  0                  0                    \n",
       "4  0                0                  1                  0                    \n",
       "\n",
       "   GarageType_BuiltIn  GarageType_CarPort  GarageType_Detchd  \\\n",
       "0  0                   0                   0                   \n",
       "1  0                   0                   0                   \n",
       "2  0                   0                   0                   \n",
       "3  0                   0                   1                   \n",
       "4  0                   0                   0                   \n",
       "\n",
       "   GarageType_NoGar  OverallCond  GarageQual  CommerZone  \n",
       "0  0                 2            1           0           \n",
       "1  0                 3            1           0           \n",
       "2  0                 2            1           0           \n",
       "3  0                 2            1           0           \n",
       "4  0                 2            1           0           "
      ]
     },
     "execution_count": 312,
     "metadata": {},
     "output_type": "execute_result"
    }
   ],
   "source": [
    "#OverallCond, MSZoning (C), GarageQual\n",
    "\n",
    "replace = {'OverallCond': {1:1, 2:1, 3:1, 4:2, 5:2, 6:2, 7:3, 8:3, 9:3, 10:3}, \n",
    "           'GarageQual': {'TA': 1, 'Gd': 2, 'Fa': 1, 'Ex': 3,'Po': 1, 'NoGar': 0}}\n",
    "            \n",
    "new_cols = ['OverallCond', 'GarageQual']\n",
    "\n",
    "df_add = df_recheck[new_cols]\n",
    "\n",
    "df_add['CommerZone']=0\n",
    "df_add.loc[df_recheck['MSZoning'] == 'C','CommerZone']=1\n",
    "\n",
    "df_add = df_add.fillna({'GarageQual':'NoGar','OverallCond':5})\n",
    "\n",
    "for i  in (replace.keys()):\n",
    "    df_add[i] = df_add[i].map(replace[i])\n",
    "    \n",
    "df_X_adj = pd.concat([df_X, df_add], axis=1)\n",
    "\n",
    "for j in ['MasVnrArea','GrLivArea','GarageArea','TotalSF']:\n",
    "    df_X_adj.loc[:,j] = np.log1p(df_X_adj[j])\n",
    "    \n",
    "(df_X_adj.head())"
   ]
  },
  {
   "cell_type": "markdown",
   "metadata": {},
   "source": [
    "## Step 5: Create Adjusted Model"
   ]
  },
  {
   "cell_type": "markdown",
   "metadata": {},
   "source": [
    "Now we can create our adjusted model. Starting again by fitting the data. "
   ]
  },
  {
   "cell_type": "code",
   "execution_count": 313,
   "metadata": {},
   "outputs": [],
   "source": [
    "\n",
    "train_adj_X = df_X_adj[train_list]\n",
    "\n",
    "test_adj_X = df_X_adj[test_list]\n",
    "\n",
    "valid_adj_X = df_X_adj[valid_list]"
   ]
  },
  {
   "cell_type": "code",
   "execution_count": 314,
   "metadata": {},
   "outputs": [
    {
     "data": {
      "text/plain": [
       "LinearRegression(copy_X=True, fit_intercept=True, n_jobs=None,\n",
       "         normalize=False)"
      ]
     },
     "execution_count": 314,
     "metadata": {},
     "output_type": "execute_result"
    }
   ],
   "source": [
    "adj_model = LinearRegression()\n",
    "\n",
    "adj_model.fit(train_adj_X, train_y)"
   ]
  },
  {
   "cell_type": "markdown",
   "metadata": {},
   "source": [
    "We will now asses how well our model does against the training set and validation set. Graphically, we can clearly see there is an outlier in the validation set"
   ]
  },
  {
   "cell_type": "code",
   "execution_count": 315,
   "metadata": {},
   "outputs": [
    {
     "name": "stdout",
     "output_type": "stream",
     "text": [
      "r2 score = 0.9109614520914779\n",
      "RMSLE = 0.12133512015350667\n"
     ]
    },
    {
     "data": {
      "text/plain": [
       "[<matplotlib.lines.Line2D at 0x1a5369720f0>]"
      ]
     },
     "execution_count": 315,
     "metadata": {},
     "output_type": "execute_result"
    },
    {
     "data": {
      "image/png": "[encoded data removed]",
      "text/plain": [
       "<Figure size 576x432 with 1 Axes>"
      ]
     },
     "metadata": {
      "needs_background": "light"
     },
     "output_type": "display_data"
    }
   ],
   "source": [
    "#See how our model does in the training data set\n",
    "\n",
    "train_adj_r2 = adj_model.score(train_adj_X,train_y)\n",
    "train_adj_pred_raw = adj_model.predict(train_adj_X)\n",
    "\n",
    "train_adj_res,train_adj_rmsle = rmsle(train_Price, train_adj_pred_raw)\n",
    "\n",
    "print(f'r2 score = {train_adj_r2}')\n",
    "print(f'RMSLE = {train_adj_rmsle}')\n",
    "\n",
    "\n",
    "f, ax = plt.subplots(figsize=(8, 6))\n",
    "ax.tick_params(labelrotation=45)\n",
    "plt.plot(train_Price, train_adj_res, 'ko')\n",
    "plt.plot(train_Price, [0]*len(train_Price),'r')"
   ]
  },
  {
   "cell_type": "code",
   "execution_count": 316,
   "metadata": {},
   "outputs": [
    {
     "name": "stdout",
     "output_type": "stream",
     "text": [
      "r2 score = 0.8402995665257933\n",
      "RMSLE = 0.15237872842474212\n"
     ]
    },
    {
     "data": {
      "text/plain": [
       "[<matplotlib.lines.Line2D at 0x1a5367316a0>]"
      ]
     },
     "execution_count": 316,
     "metadata": {},
     "output_type": "execute_result"
    },
    {
     "data": {
      "image/png": "[encoded data removed]",
      "text/plain": [
       "<Figure size 576x432 with 1 Axes>"
      ]
     },
     "metadata": {
      "needs_background": "light"
     },
     "output_type": "display_data"
    }
   ],
   "source": [
    "\n",
    "valid_adj_r2 = adj_model.score(valid_adj_X,valid_y)\n",
    "valid_adj_pred_raw = adj_model.predict(valid_adj_X)\n",
    "\n",
    "valid_adj_res,valid_adj_rmsle = rmsle(valid_Price, valid_adj_pred_raw)\n",
    "\n",
    "print(f'r2 score = {valid_adj_r2}')\n",
    "print(f'RMSLE = {valid_adj_rmsle}')\n",
    "\n",
    "\n",
    "f, ax = plt.subplots(figsize=(8, 6))\n",
    "ax.tick_params(labelrotation=45)\n",
    "plt.plot(valid_Price, valid_adj_res, 'ko')\n",
    "plt.plot(valid_Price, [0]*len(valid_Price),'r')"
   ]
  },
  {
   "cell_type": "markdown",
   "metadata": {},
   "source": [
    "We can take a look to see how how much influence each Feature has in our model."
   ]
  },
  {
   "cell_type": "code",
   "execution_count": 317,
   "metadata": {},
   "outputs": [
    {
     "data": {
      "text/plain": [
       "{'ExterQual': 0.00042524533190336047,\n",
       " 'BsmtQual': 0.03146452709352417,\n",
       " 'BsmtExposure': 0.03980316703917261,\n",
       " 'KitchenQual': 0.04129872319186925,\n",
       " 'GarageFinish': 0.015649729560058945,\n",
       " 'OverallQual': 0.05214715524757385,\n",
       " 'YearBuilt': -0.0014689161716215926,\n",
       " 'MasVnrArea': -0.0009677615816556517,\n",
       " 'GrLivArea': 0.23676906735917203,\n",
       " 'TotRmsAbvGrd': 0.010457356320645775,\n",
       " 'Fireplaces': 0.03893353634799939,\n",
       " 'GarageArea': 0.07952309462819848,\n",
       " 'TotalSF': 0.2377993100033989,\n",
       " 'TotalBath': 0.04789551904394643,\n",
       " 'Neighborhood_Blmngtn': -0.1390030387452951,\n",
       " 'Neighborhood_Blueste': -0.09994164272730824,\n",
       " 'Neighborhood_BrDale': -0.10783723551104413,\n",
       " 'Neighborhood_BrkSide': 0.07474467837813617,\n",
       " 'Neighborhood_ClearCr': 0.06392358908875981,\n",
       " 'Neighborhood_CollgCr': 0.012605312003838527,\n",
       " 'Neighborhood_Crawfor': 0.14007227574116618,\n",
       " 'Neighborhood_Edwards': -0.028813083239872125,\n",
       " 'Neighborhood_Gilbert': 0.009271258511672445,\n",
       " 'Neighborhood_IDOTRR': -0.13129058053132103,\n",
       " 'Neighborhood_MeadowV': -0.15702870221767085,\n",
       " 'Neighborhood_Mitchel': 0.004312631393523031,\n",
       " 'Neighborhood_NAmes': 0.01704837806655264,\n",
       " 'Neighborhood_NPkVill': -0.04343101913209262,\n",
       " 'Neighborhood_NWAmes': -0.03189767100525642,\n",
       " 'Neighborhood_NoRidge': 0.1233906892438533,\n",
       " 'Neighborhood_NridgHt': 0.0507114103009221,\n",
       " 'Neighborhood_OldTown': -0.05329824184584061,\n",
       " 'Neighborhood_SWISU': 0.03942545221751694,\n",
       " 'Neighborhood_Sawyer': 0.005803568547198372,\n",
       " 'Neighborhood_SawyerW': -0.009105286150718123,\n",
       " 'Neighborhood_Somerst': 0.05981170996801037,\n",
       " 'Neighborhood_StoneBr': 0.08572400935478194,\n",
       " 'Neighborhood_Timber': 0.03442629588681394,\n",
       " 'Neighborhood_Veenker': 0.08037524240365403,\n",
       " 'HouseStyle_1.5Fin': -0.030159222980498085,\n",
       " 'HouseStyle_1.5Unf': -0.006421209885143449,\n",
       " 'HouseStyle_1Story': 0.015939765287891698,\n",
       " 'HouseStyle_2.5Fin': -0.024389025759942465,\n",
       " 'HouseStyle_2.5Unf': 0.06899494936754563,\n",
       " 'HouseStyle_2Story': -0.03564219420507465,\n",
       " 'HouseStyle_SFoyer': 0.03471550358773494,\n",
       " 'HouseStyle_SLvl': -0.023038565412513035,\n",
       " 'Foundation_BrkTil': -0.0493299448046351,\n",
       " 'Foundation_CBlock': -0.007740141163633765,\n",
       " 'Foundation_PConc': 0.0019133467617904604,\n",
       " 'Foundation_Slab': 0.0623654739119793,\n",
       " 'Foundation_Stone': -0.01590120988187313,\n",
       " 'Foundation_Wood': 0.008692475176604436,\n",
       " 'GarageType_2Types': -0.17579588152129116,\n",
       " 'GarageType_Attchd': -0.013232305153078869,\n",
       " 'GarageType_Basment': -0.088546265146898,\n",
       " 'GarageType_BuiltIn': -0.01622306722575822,\n",
       " 'GarageType_CarPort': -0.10782611952525877,\n",
       " 'GarageType_Detchd': -0.019889555203789266,\n",
       " 'GarageType_NoGar': 0.42151319377605734,\n",
       " 'OverallCond': 0.11843720214440964,\n",
       " 'GarageQual': 0.08370293433436814,\n",
       " 'CommerZone': 0.0}"
      ]
     },
     "execution_count": 317,
     "metadata": {},
     "output_type": "execute_result"
    }
   ],
   "source": [
    "{k:v for k,v in zip(train_adj_X.columns,adj_model.coef_)}"
   ]
  },
  {
   "cell_type": "code",
   "execution_count": 318,
   "metadata": {},
   "outputs": [
    {
     "name": "stdout",
     "output_type": "stream",
     "text": [
      "Training Model Performance (First Model):\n",
      "r2 score = 0.8968998633589611\n",
      "RMSLE = 0.13056510148272715\n",
      "\n",
      "Validation Model Performance (First Model):\n",
      "r2 score = 0.7846785783133222\n",
      "RMSLE = 0.17693547527735898\n",
      "--------------------------------------------------\n",
      "\n",
      "Training Model Performance (Adjusted Model):\n",
      "r2 score = 0.9109614520914779\n",
      "RMSLE = 0.12133512015350667\n",
      "\n",
      "Validation Model Performance (Adjusted Model):\n",
      "r2 score = 0.8402995665257933\n",
      "RMSLE = 0.15237872842474212\n"
     ]
    }
   ],
   "source": [
    "print('Training Model Performance (First Model):')\n",
    "print(f'r2 score = {train_r2}')\n",
    "print(f'RMSLE = {train_rmsle}')\n",
    "\n",
    "print('\\nValidation Model Performance (First Model):')\n",
    "print(f'r2 score = {valid_r2}')\n",
    "print(f'RMSLE = {valid_rmsle}')\n",
    "\n",
    "print('--------------------------------------------------')\n",
    "\n",
    "print('\\nTraining Model Performance (Adjusted Model):')\n",
    "print(f'r2 score = {train_adj_r2}')\n",
    "print(f'RMSLE = {train_adj_rmsle}')\n",
    "\n",
    "print('\\nValidation Model Performance (Adjusted Model):')\n",
    "print(f'r2 score = {valid_adj_r2}')\n",
    "print(f'RMSLE = {valid_adj_rmsle}')"
   ]
  },
  {
   "cell_type": "markdown",
   "metadata": {},
   "source": [
    "We can also see how our adjusted model does compared to our original model on the testing set."
   ]
  },
  {
   "cell_type": "code",
   "execution_count": 319,
   "metadata": {},
   "outputs": [
    {
     "name": "stdout",
     "output_type": "stream",
     "text": [
      "r2 score = 0.7415775539117133\n",
      "RMSLE = 0.1927776336828899\n"
     ]
    },
    {
     "data": {
      "text/plain": [
       "[<matplotlib.lines.Line2D at 0x1a5354100f0>]"
      ]
     },
     "execution_count": 319,
     "metadata": {},
     "output_type": "execute_result"
    },
    {
     "data": {
      "image/png": "[encoded data removed]",
      "text/plain": [
       "<Figure size 576x432 with 1 Axes>"
      ]
     },
     "metadata": {
      "needs_background": "light"
     },
     "output_type": "display_data"
    }
   ],
   "source": [
    "test_r2 = linear.score(test_X,test_y)\n",
    "test_pred_raw = linear.predict(test_X)\n",
    "\n",
    "test_res,test_rmsle = rmsle(test_Price, test_pred_raw)\n",
    "\n",
    "print(f'r2 score = {test_r2}')\n",
    "print(f'RMSLE = {test_rmsle}')\n",
    "\n",
    "\n",
    "f, ax = plt.subplots(figsize=(8, 6))\n",
    "ax.tick_params(labelrotation=45)\n",
    "plt.plot(test_Price, test_res, 'ko')\n",
    "plt.plot(test_Price, [0]*len(test_Price),'r')"
   ]
  },
  {
   "cell_type": "code",
   "execution_count": 320,
   "metadata": {},
   "outputs": [
    {
     "name": "stdout",
     "output_type": "stream",
     "text": [
      "r2 score = 0.8345699907982692\n",
      "RMSLE = 0.15424058918800312\n"
     ]
    },
    {
     "data": {
      "text/plain": [
       "[<matplotlib.lines.Line2D at 0x1a5367c5080>]"
      ]
     },
     "execution_count": 320,
     "metadata": {},
     "output_type": "execute_result"
    },
    {
     "data": {
      "image/png": "[encoded data removed]",
      "text/plain": [
       "<Figure size 576x432 with 1 Axes>"
      ]
     },
     "metadata": {
      "needs_background": "light"
     },
     "output_type": "display_data"
    }
   ],
   "source": [
    "test_adj_r2 = adj_model.score(test_adj_X,test_y)\n",
    "test_adj_pred_raw = adj_model.predict(test_adj_X)\n",
    "\n",
    "test_adj_res,test_adj_rmsle = rmsle(test_Price, test_adj_pred_raw)\n",
    "\n",
    "print(f'r2 score = {test_adj_r2}')\n",
    "print(f'RMSLE = {test_adj_rmsle}')\n",
    "\n",
    "\n",
    "f, ax = plt.subplots(figsize=(8, 6))\n",
    "ax.tick_params(labelrotation=45)\n",
    "plt.plot(test_Price, test_adj_res, 'ko')\n",
    "plt.plot(test_Price, [0]*len(test_Price),'r')"
   ]
  },
  {
   "cell_type": "markdown",
   "metadata": {},
   "source": [
    "Running the adjusted model we can easily spot the outlier. We will remove them for future training since they will likely hurt our models training ability. "
   ]
  },
  {
   "cell_type": "code",
   "execution_count": 321,
   "metadata": {},
   "outputs": [
    {
     "name": "stdout",
     "output_type": "stream",
     "text": [
      "r2 score = 0.8908939230567035\n",
      "RMSLE = 0.13189773073369757\n"
     ]
    },
    {
     "data": {
      "text/plain": [
       "[<matplotlib.lines.Line2D at 0x1a5368de518>]"
      ]
     },
     "execution_count": 321,
     "metadata": {},
     "output_type": "execute_result"
    },
    {
     "data": {
      "image/png": "[encoded data removed]",
      "text/plain": [
       "<Figure size 576x432 with 1 Axes>"
      ]
     },
     "metadata": {
      "needs_background": "light"
     },
     "output_type": "display_data"
    }
   ],
   "source": [
    "#run model on complete dataset to identify outliers \n",
    "\n",
    "adj_r2 = adj_model.score(df_X_adj,df_y)\n",
    "adj_pred_raw = adj_model.predict(df_X_adj)\n",
    "\n",
    "adj_res,adj_rmsle = rmsle(df_orig['SalePrice'], adj_pred_raw)\n",
    "\n",
    "print(f'r2 score = {adj_r2}')\n",
    "print(f'RMSLE = {adj_rmsle}')\n",
    "\n",
    "\n",
    "f, ax = plt.subplots(figsize=(8, 6))\n",
    "ax.tick_params(labelrotation=45)\n",
    "plt.plot(df_y, adj_res, 'ko')\n",
    "plt.plot(df_y, [0]*len(df_y),'r')"
   ]
  },
  {
   "cell_type": "code",
   "execution_count": 322,
   "metadata": {},
   "outputs": [],
   "source": [
    "df_X_adj['SalePrice'] = df_y\n",
    "\n",
    "df_X_adj[adj_res>-300000].to_csv('housing_data_final.csv',index=False) #exclude outlier from our final training dataset"
   ]
  },
  {
   "cell_type": "markdown",
   "metadata": {},
   "source": [
    "Fin"
   ]
  },
  {
   "cell_type": "code",
   "execution_count": null,
   "metadata": {},
   "outputs": [],
   "source": []
  }
 ],
 "metadata": {
  "kernelspec": {
   "display_name": "Python 3",
   "language": "python",
   "name": "python3"
  },
  "language_info": {
   "codemirror_mode": {
    "name": "ipython",
    "version": 3
   },
   "file_extension": ".py",
   "mimetype": "text/x-python",
   "name": "python",
   "nbconvert_exporter": "python",
   "pygments_lexer": "ipython3",
   "version": "3.7.3"
  }
 },
 "nbformat": 4,
 "nbformat_minor": 2
}

{
 "cells": [
  {
   "cell_type": "markdown",
   "metadata": {},
   "source": [
    "# Part 1: EDA and Data Preperation "
   ]
  },
  {
   "cell_type": "markdown",
   "metadata": {},
   "source": [
    "The Data used in this notebook can be found on the Kaggle competition page. Here is the description of the challenge (from Kaggle): \n",
    "\n",
    "Ask a home buyer to describe their dream house, and they probably won't begin with the height of the basement ceiling or the proximity to an east-west railroad. But this playground competition's dataset proves that much more influences price negotiations than the number of bedrooms or a white-picket fence.\n",
    "\n",
    "With 79 explanatory variables describing (almost) every aspect of residential homes in Ames, Iowa, this competition challenges you to predict the final price of each home.\n",
    "\n",
    "(https://www.kaggle.com/c/house-prices-advanced-regression-techniques)"
   ]
  },
  {
   "cell_type": "code",
   "execution_count": 24,
   "metadata": {},
   "outputs": [],
   "source": [
    "import pandas as pd\n",
    "import matplotlib.pyplot as plt\n",
    "import numpy as np\n",
    "import warnings\n",
    "warnings.filterwarnings('ignore')\n",
    "%matplotlib inline\n",
    "import numpy as np\n",
    "\n",
    "pd.set_option('display.max_columns', None)  \n",
    "pd.set_option('display.max_rows', None) \n",
    "pd.set_option('display.max_colwidth', -1)"
   ]
  },
  {
   "cell_type": "markdown",
   "metadata": {},
   "source": [
    "In this notebook we preform basic data cleaning (filling in null values), as well as basic data transformation (one-hot encoding, ordinal encoding, and Feature creation)."
   ]
  },
  {
   "cell_type": "markdown",
   "metadata": {},
   "source": [
    "## Step 1: Import Training Dataset and Basic Data Exploration"
   ]
  },
  {
   "cell_type": "markdown",
   "metadata": {},
   "source": [
    "The first thing we have to do after importing our packages is to upload the Dataset from the Kaggle competition page. We should also check the shape of the Dataset and the Feature Names to have a better understanding of the composition of our Dataset."
   ]
  },
  {
   "cell_type": "code",
   "execution_count": 25,
   "metadata": {},
   "outputs": [],
   "source": [
    "#uplaod traning data from s3 bucket\n",
    "\n",
    "data_location= 'raw_housing_data.csv'\n",
    "df = pd.read_csv(data_location, low_memory=False)\n",
    "df=df.set_index('Id')"
   ]
  },
  {
   "cell_type": "code",
   "execution_count": 26,
   "metadata": {},
   "outputs": [
    {
     "name": "stdout",
     "output_type": "stream",
     "text": [
      "(1460, 80)\n"
     ]
    },
    {
     "data": {
      "text/plain": [
       "Index(['MSSubClass', 'MSZoning', 'LotFrontage', 'LotArea', 'Street', 'Alley',\n",
       "       'LotShape', 'LandContour', 'Utilities', 'LotConfig', 'LandSlope',\n",
       "       'Neighborhood', 'Condition1', 'Condition2', 'BldgType', 'HouseStyle',\n",
       "       'OverallQual', 'OverallCond', 'YearBuilt', 'YearRemodAdd', 'RoofStyle',\n",
       "       'RoofMatl', 'Exterior1st', 'Exterior2nd', 'MasVnrType', 'MasVnrArea',\n",
       "       'ExterQual', 'ExterCond', 'Foundation', 'BsmtQual', 'BsmtCond',\n",
       "       'BsmtExposure', 'BsmtFinType1', 'BsmtFinSF1', 'BsmtFinType2',\n",
       "       'BsmtFinSF2', 'BsmtUnfSF', 'TotalBsmtSF', 'Heating', 'HeatingQC',\n",
       "       'CentralAir', 'Electrical', '1stFlrSF', '2ndFlrSF', 'LowQualFinSF',\n",
       "       'GrLivArea', 'BsmtFullBath', 'BsmtHalfBath', 'FullBath', 'HalfBath',\n",
       "       'BedroomAbvGr', 'KitchenAbvGr', 'KitchenQual', 'TotRmsAbvGrd',\n",
       "       'Functional', 'Fireplaces', 'FireplaceQu', 'GarageType', 'GarageYrBlt',\n",
       "       'GarageFinish', 'GarageCars', 'GarageArea', 'GarageQual', 'GarageCond',\n",
       "       'PavedDrive', 'WoodDeckSF', 'OpenPorchSF', 'EnclosedPorch', '3SsnPorch',\n",
       "       'ScreenPorch', 'PoolArea', 'PoolQC', 'Fence', 'MiscFeature', 'MiscVal',\n",
       "       'MoSold', 'YrSold', 'SaleType', 'SaleCondition', 'SalePrice'],\n",
       "      dtype='object')"
      ]
     },
     "execution_count": 26,
     "metadata": {},
     "output_type": "execute_result"
    }
   ],
   "source": [
    "#take a look at the size of our data and our column names \n",
    "print(df.shape)\n",
    "df.columns"
   ]
  },
  {
   "cell_type": "markdown",
   "metadata": {},
   "source": [
    "We should also take a look to see how many null values we have in our quantative variables. We will replace these null values with the median. "
   ]
  },
  {
   "cell_type": "code",
   "execution_count": 30,
   "metadata": {},
   "outputs": [
    {
     "data": {
      "text/plain": [
       "MSSubClass       1.0\n",
       "LotFrontage      1.0\n",
       "LotArea          1.0\n",
       "OverallQual      1.0\n",
       "OverallCond      1.0\n",
       "YearBuilt        1.0\n",
       "YearRemodAdd     1.0\n",
       "MasVnrArea       1.0\n",
       "BsmtFinSF1       1.0\n",
       "BsmtFinSF2       1.0\n",
       "BsmtUnfSF        1.0\n",
       "TotalBsmtSF      1.0\n",
       "1stFlrSF         1.0\n",
       "2ndFlrSF         1.0\n",
       "LowQualFinSF     1.0\n",
       "GrLivArea        1.0\n",
       "BsmtFullBath     1.0\n",
       "BsmtHalfBath     1.0\n",
       "FullBath         1.0\n",
       "HalfBath         1.0\n",
       "BedroomAbvGr     1.0\n",
       "KitchenAbvGr     1.0\n",
       "TotRmsAbvGrd     1.0\n",
       "Fireplaces       1.0\n",
       "GarageYrBlt      1.0\n",
       "GarageCars       1.0\n",
       "GarageArea       1.0\n",
       "WoodDeckSF       1.0\n",
       "OpenPorchSF      1.0\n",
       "EnclosedPorch    1.0\n",
       "3SsnPorch        1.0\n",
       "ScreenPorch      1.0\n",
       "PoolArea         1.0\n",
       "MiscVal          1.0\n",
       "MoSold           1.0\n",
       "YrSold           1.0\n",
       "SalePrice        1.0\n",
       "Name: count, dtype: float64"
      ]
     },
     "execution_count": 30,
     "metadata": {},
     "output_type": "execute_result"
    }
   ],
   "source": [
    "#check to see null values in our quantative variables\n",
    "\n",
    "(df.describe().loc['count']/df.shape[0])"
   ]
  },
  {
   "cell_type": "code",
   "execution_count": 31,
   "metadata": {},
   "outputs": [],
   "source": [
    "df=df.fillna(dict(zip(df.describe().columns, df.describe().loc['50%'])))"
   ]
  },
  {
   "cell_type": "markdown",
   "metadata": {},
   "source": [
    "Lets take a more detailed look into our Target Variable. We can clearly that it is skewed to the right.   "
   ]
  },
  {
   "cell_type": "code",
   "execution_count": 33,
   "metadata": {},
   "outputs": [
    {
     "data": {
      "text/plain": [
       "count    1460.000000  \n",
       "mean     180921.195890\n",
       "std      79442.502883 \n",
       "min      34900.000000 \n",
       "25%      129975.000000\n",
       "50%      163000.000000\n",
       "75%      214000.000000\n",
       "max      755000.000000\n",
       "Name: SalePrice, dtype: float64"
      ]
     },
     "execution_count": 33,
     "metadata": {},
     "output_type": "execute_result"
    }
   ],
   "source": [
    "#descriptive stats for SalePrice\n",
    "\n",
    "df_Price= df['SalePrice']\n",
    "df_Price.describe()"
   ]
  },
  {
   "cell_type": "code",
   "execution_count": 34,
   "metadata": {},
   "outputs": [
    {
     "data": {
      "text/plain": [
       "<matplotlib.axes._subplots.AxesSubplot at 0x24f6a452ba8>"
      ]
     },
     "execution_count": 34,
     "metadata": {},
     "output_type": "execute_result"
    },
    {
     "data": {
      "image/png": "[encoded data removed]",
      "text/plain": [
       "<Figure size 432x288 with 1 Axes>"
      ]
     },
     "metadata": {
      "needs_background": "light"
     },
     "output_type": "display_data"
    }
   ],
   "source": [
    "#look at distribution for the SalesPrice\n",
    "\n",
    "import seaborn as sns\n",
    "\n",
    "sns.distplot(df_Price)"
   ]
  },
  {
   "cell_type": "markdown",
   "metadata": {},
   "source": [
    "## Step 2: Data Transformation and Feature Exploration"
   ]
  },
  {
   "cell_type": "markdown",
   "metadata": {},
   "source": [
    "Since are data is skewed to the right, we will apply a log(1+x) transformation, but for now we will just use our original price. We will also create two new features; TotalSF which will combine the three Square Feet features into one, and TotalBath which will combine all the Bathroom features. "
   ]
  },
  {
   "cell_type": "code",
   "execution_count": 35,
   "metadata": {},
   "outputs": [],
   "source": [
    "df['TotalSF'] = df['TotalBsmtSF'] + df['1stFlrSF'] + df['2ndFlrSF'] \n",
    "\n",
    "df['TotalBath'] = .5 *(df['HalfBath'] + df['BsmtHalfBath']) + df['FullBath'] + df['BsmtFullBath']\n",
    "\n",
    "df = df[ [ col for col in df.columns if col != 'SalePrice' ] + ['SalePrice'] ]"
   ]
  },
  {
   "cell_type": "markdown",
   "metadata": {},
   "source": [
    "We will begin our Feature Engineering by checking the coorelation between our Features. This can help spot co-linearity and identify the Features we need to use as part of our Model. "
   ]
  },
  {
   "cell_type": "code",
   "execution_count": 8,
   "metadata": {},
   "outputs": [
    {
     "data": {
      "text/plain": [
       "<matplotlib.axes._subplots.AxesSubplot at 0x24f66421c50>"
      ]
     },
     "execution_count": 8,
     "metadata": {},
     "output_type": "execute_result"
    },
    {
     "data": {
      "image/png": "[encoded data removed]",
      "text/plain": [
       "<Figure size 432x288 with 2 Axes>"
      ]
     },
     "metadata": {
      "needs_background": "light"
     },
     "output_type": "display_data"
    }
   ],
   "source": [
    "#correlation matrix to look at catagories with strong coorelations with SalePrice\n",
    "\n",
    "corr_mat= df.corr()\n",
    "f, ax= plt.subplots()\n",
    "sns.heatmap(corr_mat,vmax=.7)"
   ]
  },
  {
   "cell_type": "markdown",
   "metadata": {},
   "source": [
    "Lets take a deeper look at just the Features that have a coorelation with SalesPrice of over .35. This is also a good chance to unselect the Features with a high amount of CoLinearity "
   ]
  },
  {
   "cell_type": "code",
   "execution_count": 36,
   "metadata": {},
   "outputs": [
    {
     "name": "stdout",
     "output_type": "stream",
     "text": [
      "Index(['OverallQual', 'YearBuilt', 'YearRemodAdd', 'MasVnrArea', 'BsmtFinSF1',\n",
      "       'TotalBsmtSF', '1stFlrSF', 'GrLivArea', 'FullBath', 'TotRmsAbvGrd',\n",
      "       'Fireplaces', 'GarageYrBlt', 'GarageCars', 'GarageArea', 'TotalSF',\n",
      "       'TotalBath', 'SalePrice'],\n",
      "      dtype='object')\n"
     ]
    },
    {
     "data": {
      "text/plain": [
       "<matplotlib.axes._subplots.AxesSubplot at 0x24f6a54d3c8>"
      ]
     },
     "execution_count": 36,
     "metadata": {},
     "output_type": "execute_result"
    },
    {
     "data": {
      "image/png": "[encoded data removed]",
      "text/plain": [
       "<Figure size 432x288 with 2 Axes>"
      ]
     },
     "metadata": {
      "needs_background": "light"
     },
     "output_type": "display_data"
    }
   ],
   "source": [
    "#selecting numerical features to be included in the model \n",
    "\n",
    "cols_num_all=corr_mat.loc[corr_mat['SalePrice']>.35].index #numberical features we will include\n",
    "print(cols_num_all)\n",
    "df_num= df[cols_num_all]\n",
    "corr_mat_num=df_num.corr()\n",
    "sns.heatmap(corr_mat_num, vmax=.7, cbar=True, annot=True, square=True, fmt='.2f',annot_kws={'size': 5})"
   ]
  },
  {
   "cell_type": "code",
   "execution_count": 10,
   "metadata": {},
   "outputs": [],
   "source": [
    "#remove features with colinearity\n",
    "\n",
    "cols_num=[]\n",
    "for i in cols_num_all: \n",
    "    if i not in ['GarageYrBlt','GarageCars', 'BsmtFinSF1','FullBath','1stFlrSF','TotalBsmtSF','YearRemodAdd']:\n",
    "        cols_num.append(i)"
   ]
  },
  {
   "cell_type": "markdown",
   "metadata": {},
   "source": [
    "We can now start looking at our Categorical values, lets start by filling in the null values."
   ]
  },
  {
   "cell_type": "code",
   "execution_count": 37,
   "metadata": {},
   "outputs": [
    {
     "data": {
      "text/html": [
       "<div>\n",
       "<style scoped>\n",
       "    .dataframe tbody tr th:only-of-type {\n",
       "        vertical-align: middle;\n",
       "    }\n",
       "\n",
       "    .dataframe tbody tr th {\n",
       "        vertical-align: top;\n",
       "    }\n",
       "\n",
       "    .dataframe thead th {\n",
       "        text-align: right;\n",
       "    }\n",
       "</style>\n",
       "<table border=\"1\" class=\"dataframe\">\n",
       "  <thead>\n",
       "    <tr style=\"text-align: right;\">\n",
       "      <th></th>\n",
       "      <th>MSZoning</th>\n",
       "      <th>Street</th>\n",
       "      <th>Alley</th>\n",
       "      <th>LotShape</th>\n",
       "      <th>LandContour</th>\n",
       "      <th>Utilities</th>\n",
       "      <th>LotConfig</th>\n",
       "      <th>LandSlope</th>\n",
       "      <th>Neighborhood</th>\n",
       "      <th>Condition1</th>\n",
       "      <th>Condition2</th>\n",
       "      <th>BldgType</th>\n",
       "      <th>HouseStyle</th>\n",
       "      <th>RoofStyle</th>\n",
       "      <th>RoofMatl</th>\n",
       "      <th>Exterior1st</th>\n",
       "      <th>Exterior2nd</th>\n",
       "      <th>MasVnrType</th>\n",
       "      <th>ExterQual</th>\n",
       "      <th>ExterCond</th>\n",
       "      <th>Foundation</th>\n",
       "      <th>BsmtQual</th>\n",
       "      <th>BsmtCond</th>\n",
       "      <th>BsmtExposure</th>\n",
       "      <th>BsmtFinType1</th>\n",
       "      <th>BsmtFinType2</th>\n",
       "      <th>Heating</th>\n",
       "      <th>HeatingQC</th>\n",
       "      <th>CentralAir</th>\n",
       "      <th>Electrical</th>\n",
       "      <th>KitchenQual</th>\n",
       "      <th>Functional</th>\n",
       "      <th>FireplaceQu</th>\n",
       "      <th>GarageType</th>\n",
       "      <th>GarageFinish</th>\n",
       "      <th>GarageQual</th>\n",
       "      <th>GarageCond</th>\n",
       "      <th>PavedDrive</th>\n",
       "      <th>PoolQC</th>\n",
       "      <th>Fence</th>\n",
       "      <th>MiscFeature</th>\n",
       "      <th>SaleType</th>\n",
       "      <th>SaleCondition</th>\n",
       "    </tr>\n",
       "  </thead>\n",
       "  <tbody>\n",
       "    <tr>\n",
       "      <th>count</th>\n",
       "      <td>1460</td>\n",
       "      <td>1460</td>\n",
       "      <td>91</td>\n",
       "      <td>1460</td>\n",
       "      <td>1460</td>\n",
       "      <td>1460</td>\n",
       "      <td>1460</td>\n",
       "      <td>1460</td>\n",
       "      <td>1460</td>\n",
       "      <td>1460</td>\n",
       "      <td>1460</td>\n",
       "      <td>1460</td>\n",
       "      <td>1460</td>\n",
       "      <td>1460</td>\n",
       "      <td>1460</td>\n",
       "      <td>1460</td>\n",
       "      <td>1460</td>\n",
       "      <td>1452</td>\n",
       "      <td>1460</td>\n",
       "      <td>1460</td>\n",
       "      <td>1460</td>\n",
       "      <td>1423</td>\n",
       "      <td>1423</td>\n",
       "      <td>1422</td>\n",
       "      <td>1423</td>\n",
       "      <td>1422</td>\n",
       "      <td>1460</td>\n",
       "      <td>1460</td>\n",
       "      <td>1460</td>\n",
       "      <td>1459</td>\n",
       "      <td>1460</td>\n",
       "      <td>1460</td>\n",
       "      <td>770</td>\n",
       "      <td>1379</td>\n",
       "      <td>1379</td>\n",
       "      <td>1379</td>\n",
       "      <td>1379</td>\n",
       "      <td>1460</td>\n",
       "      <td>7</td>\n",
       "      <td>281</td>\n",
       "      <td>54</td>\n",
       "      <td>1460</td>\n",
       "      <td>1460</td>\n",
       "    </tr>\n",
       "    <tr>\n",
       "      <th>unique</th>\n",
       "      <td>5</td>\n",
       "      <td>2</td>\n",
       "      <td>2</td>\n",
       "      <td>4</td>\n",
       "      <td>4</td>\n",
       "      <td>2</td>\n",
       "      <td>5</td>\n",
       "      <td>3</td>\n",
       "      <td>25</td>\n",
       "      <td>9</td>\n",
       "      <td>8</td>\n",
       "      <td>5</td>\n",
       "      <td>8</td>\n",
       "      <td>6</td>\n",
       "      <td>8</td>\n",
       "      <td>15</td>\n",
       "      <td>16</td>\n",
       "      <td>4</td>\n",
       "      <td>4</td>\n",
       "      <td>5</td>\n",
       "      <td>6</td>\n",
       "      <td>4</td>\n",
       "      <td>4</td>\n",
       "      <td>4</td>\n",
       "      <td>6</td>\n",
       "      <td>6</td>\n",
       "      <td>6</td>\n",
       "      <td>5</td>\n",
       "      <td>2</td>\n",
       "      <td>5</td>\n",
       "      <td>4</td>\n",
       "      <td>7</td>\n",
       "      <td>5</td>\n",
       "      <td>6</td>\n",
       "      <td>3</td>\n",
       "      <td>5</td>\n",
       "      <td>5</td>\n",
       "      <td>3</td>\n",
       "      <td>3</td>\n",
       "      <td>4</td>\n",
       "      <td>4</td>\n",
       "      <td>9</td>\n",
       "      <td>6</td>\n",
       "    </tr>\n",
       "    <tr>\n",
       "      <th>top</th>\n",
       "      <td>RL</td>\n",
       "      <td>Pave</td>\n",
       "      <td>Grvl</td>\n",
       "      <td>Reg</td>\n",
       "      <td>Lvl</td>\n",
       "      <td>AllPub</td>\n",
       "      <td>Inside</td>\n",
       "      <td>Gtl</td>\n",
       "      <td>NAmes</td>\n",
       "      <td>Norm</td>\n",
       "      <td>Norm</td>\n",
       "      <td>1Fam</td>\n",
       "      <td>1Story</td>\n",
       "      <td>Gable</td>\n",
       "      <td>CompShg</td>\n",
       "      <td>VinylSd</td>\n",
       "      <td>VinylSd</td>\n",
       "      <td>None</td>\n",
       "      <td>TA</td>\n",
       "      <td>TA</td>\n",
       "      <td>PConc</td>\n",
       "      <td>TA</td>\n",
       "      <td>TA</td>\n",
       "      <td>No</td>\n",
       "      <td>Unf</td>\n",
       "      <td>Unf</td>\n",
       "      <td>GasA</td>\n",
       "      <td>Ex</td>\n",
       "      <td>Y</td>\n",
       "      <td>SBrkr</td>\n",
       "      <td>TA</td>\n",
       "      <td>Typ</td>\n",
       "      <td>Gd</td>\n",
       "      <td>Attchd</td>\n",
       "      <td>Unf</td>\n",
       "      <td>TA</td>\n",
       "      <td>TA</td>\n",
       "      <td>Y</td>\n",
       "      <td>Gd</td>\n",
       "      <td>MnPrv</td>\n",
       "      <td>Shed</td>\n",
       "      <td>WD</td>\n",
       "      <td>Normal</td>\n",
       "    </tr>\n",
       "    <tr>\n",
       "      <th>freq</th>\n",
       "      <td>1151</td>\n",
       "      <td>1454</td>\n",
       "      <td>50</td>\n",
       "      <td>925</td>\n",
       "      <td>1311</td>\n",
       "      <td>1459</td>\n",
       "      <td>1052</td>\n",
       "      <td>1382</td>\n",
       "      <td>225</td>\n",
       "      <td>1260</td>\n",
       "      <td>1445</td>\n",
       "      <td>1220</td>\n",
       "      <td>726</td>\n",
       "      <td>1141</td>\n",
       "      <td>1434</td>\n",
       "      <td>515</td>\n",
       "      <td>504</td>\n",
       "      <td>864</td>\n",
       "      <td>906</td>\n",
       "      <td>1282</td>\n",
       "      <td>647</td>\n",
       "      <td>649</td>\n",
       "      <td>1311</td>\n",
       "      <td>953</td>\n",
       "      <td>430</td>\n",
       "      <td>1256</td>\n",
       "      <td>1428</td>\n",
       "      <td>741</td>\n",
       "      <td>1365</td>\n",
       "      <td>1334</td>\n",
       "      <td>735</td>\n",
       "      <td>1360</td>\n",
       "      <td>380</td>\n",
       "      <td>870</td>\n",
       "      <td>605</td>\n",
       "      <td>1311</td>\n",
       "      <td>1326</td>\n",
       "      <td>1340</td>\n",
       "      <td>3</td>\n",
       "      <td>157</td>\n",
       "      <td>49</td>\n",
       "      <td>1267</td>\n",
       "      <td>1198</td>\n",
       "    </tr>\n",
       "  </tbody>\n",
       "</table>\n",
       "</div>"
      ],
      "text/plain": [
       "       MSZoning Street Alley LotShape LandContour Utilities LotConfig  \\\n",
       "count   1460     1460   91    1460     1460        1460      1460       \n",
       "unique  5        2      2     4        4           2         5          \n",
       "top     RL       Pave   Grvl  Reg      Lvl         AllPub    Inside     \n",
       "freq    1151     1454   50    925      1311        1459      1052       \n",
       "\n",
       "       LandSlope Neighborhood Condition1 Condition2 BldgType HouseStyle  \\\n",
       "count   1460      1460         1460       1460       1460     1460        \n",
       "unique  3         25           9          8          5        8           \n",
       "top     Gtl       NAmes        Norm       Norm       1Fam     1Story      \n",
       "freq    1382      225          1260       1445       1220     726         \n",
       "\n",
       "       RoofStyle RoofMatl Exterior1st Exterior2nd MasVnrType ExterQual  \\\n",
       "count   1460      1460     1460        1460        1452       1460       \n",
       "unique  6         8        15          16          4          4          \n",
       "top     Gable     CompShg  VinylSd     VinylSd     None       TA         \n",
       "freq    1141      1434     515         504         864        906        \n",
       "\n",
       "       ExterCond Foundation BsmtQual BsmtCond BsmtExposure BsmtFinType1  \\\n",
       "count   1460      1460       1423     1423     1422         1423          \n",
       "unique  5         6          4        4        4            6             \n",
       "top     TA        PConc      TA       TA       No           Unf           \n",
       "freq    1282      647        649      1311     953          430           \n",
       "\n",
       "       BsmtFinType2 Heating HeatingQC CentralAir Electrical KitchenQual  \\\n",
       "count   1422         1460    1460      1460       1459       1460         \n",
       "unique  6            6       5         2          5          4            \n",
       "top     Unf          GasA    Ex        Y          SBrkr      TA           \n",
       "freq    1256         1428    741       1365       1334       735          \n",
       "\n",
       "       Functional FireplaceQu GarageType GarageFinish GarageQual GarageCond  \\\n",
       "count   1460       770         1379       1379         1379       1379        \n",
       "unique  7          5           6          3            5          5           \n",
       "top     Typ        Gd          Attchd     Unf          TA         TA          \n",
       "freq    1360       380         870        605          1311       1326        \n",
       "\n",
       "       PavedDrive PoolQC  Fence MiscFeature SaleType SaleCondition  \n",
       "count   1460       7      281    54          1460     1460          \n",
       "unique  3          3      4      4           9        6             \n",
       "top     Y          Gd     MnPrv  Shed        WD       Normal        \n",
       "freq    1340       3      157    49          1267     1198          "
      ]
     },
     "execution_count": 37,
     "metadata": {},
     "output_type": "execute_result"
    }
   ],
   "source": [
    "desc_obj=df.describe(include='object')\n",
    "repl_val={'MasVnrType':'None','BsmtFinType1':'NoBas','BsmtFinType2':'NoBas','BsmtCond':'NoBas', 'BsmtExposure': 'NoBas',\n",
    "         'Electrical':'Sbrkr','FireplaceQu':'NoFp','GarageType':'NoGar','GarageFinish':'NoGar','GarageQual':'NoGar','GarageCond':'NoGar',\n",
    "         'PoolQC':'NoP','Fence':'NoF','BsmtQual':'NoBas'}\n",
    "\n",
    "df= df.fillna(repl_val)\n",
    "desc_obj"
   ]
  },
  {
   "cell_type": "markdown",
   "metadata": {},
   "source": [
    "Since we can't just run a correlation matrix, one thing we can do is look at the box plots of the Feature values. After taht we should One-Hot Encode the features an check the coorelation with SalesPrice (using Linear Regerssion). This will give a general idea of which features to include. "
   ]
  },
  {
   "cell_type": "code",
   "execution_count": 40,
   "metadata": {
    "scrolled": true
   },
   "outputs": [
    {
     "data": {
      "image/png": "[encoded data removed]",
      "text/plain": [
       "<Figure size 576x432 with 1 Axes>"
      ]
     },
     "metadata": {
      "needs_background": "light"
     },
     "output_type": "display_data"
    }
   ],
   "source": [
    "#go through the categorical variables to check coorelations\n",
    "\n",
    "var = 'MSZoning'\n",
    "data = pd.concat([df['SalePrice'], df[var]], axis=1)\n",
    "f, ax = plt.subplots(figsize=(8, 6))\n",
    "ax.tick_params(labelrotation=45)\n",
    "fig = sns.boxplot(x=var, y=\"SalePrice\", data=data)\n",
    "fig.axis(ymin=0, ymax=800000);\n"
   ]
  },
  {
   "cell_type": "code",
   "execution_count": 41,
   "metadata": {},
   "outputs": [
    {
     "name": "stdout",
     "output_type": "stream",
     "text": [
      "RL         1151\n",
      "RM         218 \n",
      "FV         65  \n",
      "RH         16  \n",
      "C (all)    10  \n",
      "Name: MSZoning, dtype: int64\n",
      "Index(['C (all)', 'FV', 'RH', 'RL', 'RM'], dtype='object')\n",
      "[149056.         428028.12307692 263116.75       382009.98957428\n",
      " 252633.66055046]\n",
      "0.10755968344624967\n"
     ]
    }
   ],
   "source": [
    "from sklearn.linear_model import LinearRegression\n",
    "\n",
    "print(df[var].value_counts())\n",
    "\n",
    "#used this cell for feature selection\n",
    "df_dummy=pd.get_dummies(df[var])\n",
    "model= LinearRegression(fit_intercept=False)\n",
    "model.fit(df_dummy, df_Price)\n",
    "\n",
    "print(df_dummy.columns)\n",
    "print(model.coef_*2)\n",
    "\n",
    "score= model.score(df_dummy,df_Price)\n",
    "print(score)\n",
    "col_obj=['Neighborhood','HouseStyle','ExterQual','Foundation', 'BsmtQual','BsmtExposure','KitchenQual'\n",
    "         ,'GarageType','GarageFinish','RoofStyle'] #catogorical features selected \n"
   ]
  },
  {
   "cell_type": "markdown",
   "metadata": {},
   "source": [
    "Some of our Features are Ordinal, meaning we should assign numerical values to order them. "
   ]
  },
  {
   "cell_type": "code",
   "execution_count": 43,
   "metadata": {},
   "outputs": [
    {
     "name": "stdout",
     "output_type": "stream",
     "text": [
      "[48870.99420801]\n",
      "-671.3682044244779\n"
     ]
    },
    {
     "data": {
      "text/plain": [
       "0.3016719993425554"
      ]
     },
     "execution_count": 43,
     "metadata": {},
     "output_type": "execute_result"
    }
   ],
   "source": [
    "#cell used to assign oridinal features their values \n",
    "\n",
    "cols_ord=['ExterQual','BsmtQual','BsmtExposure','KitchenQual','GarageFinish']  #oridinal Values\n",
    "cols_ohe= ['Neighborhood', 'HouseStyle', 'Foundation','GarageType'] #the values we will have to one hot encode later\n",
    "\n",
    "\n",
    "var='GarageFinish' #one of the col_ord values \n",
    "df_ordinal= np.array(df[var].replace({'RFn':4,'Unf':3,'Fin':5,'NoGar':2})).reshape(-1,1)\n",
    "model=LinearRegression(fit_intercept=True)\n",
    "model.fit(df_ordinal,df_Price)\n",
    "print(model.coef_)\n",
    "print(model.intercept_)\n",
    "model.score(df_ordinal,df_Price)"
   ]
  },
  {
   "cell_type": "code",
   "execution_count": 44,
   "metadata": {},
   "outputs": [],
   "source": [
    "#replacement of string catogrical features with ordinal value\n",
    "\n",
    "replace= {'ExterQual':{'Ex':7,'Fa':2,'Gd':5,'TA':3,'Po':1},'BsmtQual':{'Ex':6,'Fa':2,'Gd':4,'TA':3,'Po':1,'NoBas':2},\n",
    "          'BsmtExposure':{'No':3,'Gd':5,'Mn':4,'Av':4,'NoBas':2},'KitchenQual':{'TA':3,'Gd':4,'Ex':6,'Fa':2,'Po':1},\n",
    "           'FireplaceQu':{'TA':2,'Gd':2.2,'Ex':3.3,'Fa':1.6,'Po':1.2,'NoFp':1.4},'GarageFinish': {'RFn':4,'Unf':3,'Fin':5,'NoGar':2}}"
   ]
  },
  {
   "cell_type": "markdown",
   "metadata": {},
   "source": [
    "## Step 3: Upload Cleaned Datasets "
   ]
  },
  {
   "cell_type": "markdown",
   "metadata": {},
   "source": [
    "Finally all that is left to do is upload our dataset, we will refer these to the next Part. We will also preform our log(1+p) transformation on SalesPrice. "
   ]
  },
  {
   "cell_type": "code",
   "execution_count": 48,
   "metadata": {},
   "outputs": [],
   "source": [
    "#save a simplified csv files with all the original attributes left alone(for graphing later)\n",
    "\n",
    "cols= cols_ord + cols_ohe + cols_num \n",
    "df_original = df[cols]\n",
    "df_original.to_csv('housing_data_original.csv',index=False)"
   ]
  },
  {
   "cell_type": "code",
   "execution_count": 49,
   "metadata": {},
   "outputs": [],
   "source": [
    "#creation of our 'final' cleaned dataframe\n",
    "\n",
    "cols= cols_ord+list(cols_num)\n",
    "df_cleaned=df[cols].replace(replace)\n",
    "df_cleaned_dummy= pd.get_dummies(df[cols_ohe])\n",
    "\n",
    "df_cleaned =pd.concat([df_cleaned,df_cleaned_dummy],axis=1)\n",
    "df_cleaned['YearBuilt']=2020-df_cleaned['YearBuilt']\n",
    "\n",
    "df_cleaned['SalePrice'] = np.log1p(df_Price)"
   ]
  },
  {
   "cell_type": "code",
   "execution_count": 50,
   "metadata": {},
   "outputs": [
    {
     "name": "stdout",
     "output_type": "stream",
     "text": [
      "['ExterQual', 'BsmtQual', 'BsmtExposure', 'KitchenQual', 'GarageFinish', 'OverallQual', 'YearBuilt', 'MasVnrArea', 'GrLivArea', 'TotRmsAbvGrd', 'Fireplaces', 'GarageArea', 'TotalSF', 'TotalBath', 'SalePrice']\n"
     ]
    }
   ],
   "source": [
    "#uplaod the data into s3 \n",
    "\n",
    "df_cleaned.to_csv('housing_data.csv',index=False)\n",
    "\n",
    "print(cols)"
   ]
  },
  {
   "cell_type": "markdown",
   "metadata": {},
   "source": [
    "Fin"
   ]
  }
 ],
 "metadata": {
  "kernelspec": {
   "display_name": "Python 3",
   "language": "python",
   "name": "python3"
  },
  "language_info": {
   "codemirror_mode": {
    "name": "ipython",
    "version": 3
   },
   "file_extension": ".py",
   "mimetype": "text/x-python",
   "name": "python",
   "nbconvert_exporter": "python",
   "pygments_lexer": "ipython3",
   "version": "3.7.3"
  }
 },
 "nbformat": 4,
 "nbformat_minor": 2
}
